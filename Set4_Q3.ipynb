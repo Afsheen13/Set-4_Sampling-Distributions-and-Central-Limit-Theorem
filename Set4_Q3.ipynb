{
 "cells": [
  {
   "cell_type": "markdown",
   "id": "91f6f5a7",
   "metadata": {},
   "source": [
    "3.\tAuditors at a small community bank randomly sample 100 withdrawal transactions made during the week at an ATM machine located near the bank’s main branch. Over the past 2 years, the average withdrawal amount has been $50 with a standard deviation of $40. Since audit investigations are typically expensive, the auditors decide to not initiate further investigations if the mean transaction amount of the sample is between $45 and $55. What is the probability that in any given week, there will be an investigation?\n",
    "\n",
    "A.\t1.25%\n",
    "B.\t2.5%\n",
    "C.\t10.55%\n",
    "D.\t21.1%\n",
    "E.\t50%\n"
   ]
  },
  {
   "cell_type": "code",
   "execution_count": 1,
   "id": "7a5931df",
   "metadata": {},
   "outputs": [],
   "source": [
    "import numpy as np\n",
    "from scipy import stats\n",
    "from scipy.stats import norm"
   ]
  },
  {
   "cell_type": "markdown",
   "id": "cdef7e24",
   "metadata": {},
   "source": [
    "n=100, Pop Mean=50, Pop SD=40 As no. of samples is more than 30, we can consider it normal distribution"
   ]
  },
  {
   "cell_type": "code",
   "execution_count": 2,
   "id": "ec460818",
   "metadata": {},
   "outputs": [],
   "source": [
    "# For No investigation P(45\n",
    "# For Investigation 1-P(45"
   ]
  },
  {
   "cell_type": "code",
   "execution_count": 3,
   "id": "56ac57b3",
   "metadata": {},
   "outputs": [
    {
     "data": {
      "text/plain": [
       "-1.25"
      ]
     },
     "execution_count": 3,
     "metadata": {},
     "output_type": "execute_result"
    }
   ],
   "source": [
    "# find z-scores at x=45; z=(s_mean-P_mean)/(p_SD/sqrt(n))\n",
    "z=(45-50)/(40/100**0.5)\n",
    "z"
   ]
  },
  {
   "cell_type": "code",
   "execution_count": 4,
   "id": "91e23642",
   "metadata": {},
   "outputs": [
    {
     "data": {
      "text/plain": [
       "1.25"
      ]
     },
     "execution_count": 4,
     "metadata": {},
     "output_type": "execute_result"
    }
   ],
   "source": [
    "# find z-scores at x=55; z=(s_mean-P_mean)/(p_SD/sqrt(n))\n",
    "z=(55-50)/(40/100**0.5)\n",
    "z"
   ]
  },
  {
   "cell_type": "code",
   "execution_count": 5,
   "id": "883e569c",
   "metadata": {},
   "outputs": [
    {
     "data": {
      "text/plain": [
       "0.7887004526662893"
      ]
     },
     "execution_count": 5,
     "metadata": {},
     "output_type": "execute_result"
    }
   ],
   "source": [
    "# For No investigation P(45\n",
    "stats.norm.cdf(1.25)-stats.norm.cdf(-1.25)"
   ]
  },
  {
   "cell_type": "code",
   "execution_count": 6,
   "id": "939778d5",
   "metadata": {},
   "outputs": [
    {
     "data": {
      "text/plain": [
       "(45.00000495667348, 54.99999504332652)"
      ]
     },
     "execution_count": 6,
     "metadata": {},
     "output_type": "execute_result"
    }
   ],
   "source": [
    "stats.norm.interval(0.7887,loc=50,scale=40/(100**0.5))"
   ]
  },
  {
   "cell_type": "code",
   "execution_count": 7,
   "id": "b7a28a1e",
   "metadata": {},
   "outputs": [
    {
     "data": {
      "text/plain": [
       "0.21130000000000004"
      ]
     },
     "execution_count": 7,
     "metadata": {},
     "output_type": "execute_result"
    }
   ],
   "source": [
    "# For Investigation 1-P(45\n",
    "1-0.7887"
   ]
  },
  {
   "cell_type": "markdown",
   "id": "27104e4e",
   "metadata": {},
   "source": [
    "Answer is D. 21.1%"
   ]
  },
  {
   "cell_type": "code",
   "execution_count": null,
   "id": "4df0d918",
   "metadata": {},
   "outputs": [],
   "source": []
  }
 ],
 "metadata": {
  "kernelspec": {
   "display_name": "Python 3 (ipykernel)",
   "language": "python",
   "name": "python3"
  },
  "language_info": {
   "codemirror_mode": {
    "name": "ipython",
    "version": 3
   },
   "file_extension": ".py",
   "mimetype": "text/x-python",
   "name": "python",
   "nbconvert_exporter": "python",
   "pygments_lexer": "ipython3",
   "version": "3.9.12"
  }
 },
 "nbformat": 4,
 "nbformat_minor": 5
}
